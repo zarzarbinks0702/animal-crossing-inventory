{
 "cells": [
  {
   "cell_type": "code",
   "execution_count": 1,
   "id": "93f18386",
   "metadata": {},
   "outputs": [],
   "source": [
    "import pandas as pd\n",
    "import os\n",
    "import glob\n",
    "import sqlite3 as sql"
   ]
  },
  {
   "cell_type": "code",
   "execution_count": 2,
   "id": "a7fb6a54",
   "metadata": {},
   "outputs": [],
   "source": [
    "path = os.getcwd()\n",
    "parent = os.path.join(path, os.pardir)\n",
    "csv_files = glob.glob(os.path.join(parent, \"*.csv\"))"
   ]
  },
  {
   "cell_type": "code",
   "execution_count": 3,
   "id": "62ea1ea7",
   "metadata": {},
   "outputs": [],
   "source": [
    "item_categories = []\n",
    "\n",
    "for f in csv_files:\n",
    "    f = f.replace('-', '_')\n",
    "    f = f.replace(' ', '_')\n",
    "    split_1 = f.split(\"\\\\\")\n",
    "    split_2 = split_1[-1].split('.')\n",
    "    category = split_2[0]\n",
    "    item_categories.append(category)"
   ]
  },
  {
   "cell_type": "code",
   "execution_count": 4,
   "id": "07fd467e",
   "metadata": {},
   "outputs": [],
   "source": [
    "items_dfs = []\n",
    "\n",
    "for f in csv_files:\n",
    "    df = pd.read_csv(f)\n",
    "    items_dfs.append(df)"
   ]
  },
  {
   "cell_type": "code",
   "execution_count": 5,
   "id": "ac87c8a3",
   "metadata": {},
   "outputs": [],
   "source": [
    "items_dictionary = {}\n",
    "\n",
    "for i in range(len(items_dfs)):\n",
    "    items_dictionary[item_categories[i]] = items_dfs[i]\n",
    "    "
   ]
  },
  {
   "cell_type": "code",
   "execution_count": 6,
   "id": "9e763c35",
   "metadata": {},
   "outputs": [],
   "source": [
    "conn = sql.connect('animal_crossing_inventory.db')\n",
    "cursor = conn.cursor()"
   ]
  },
  {
   "cell_type": "code",
   "execution_count": 7,
   "id": "3e476f95",
   "metadata": {},
   "outputs": [],
   "source": [
    "for i in item_categories:\n",
    "    query = f\"DROP table IF EXISTS {i}\"\n",
    "    cursor.execute(query)"
   ]
  },
  {
   "cell_type": "code",
   "execution_count": 8,
   "id": "d5eb7a57",
   "metadata": {},
   "outputs": [
    {
     "name": "stderr",
     "output_type": "stream",
     "text": [
      "C:\\Users\\Kaylie\\anaconda3\\lib\\site-packages\\pandas\\core\\generic.py:2779: UserWarning: The spaces in these column names will not be changed. In pandas versions < 0.14, spaces were converted to underscores.\n",
      "  sql.to_sql(\n"
     ]
    }
   ],
   "source": [
    "for key, value in items_dictionary.items():\n",
    "    value.to_sql(key, conn, index=False)"
   ]
  },
  {
   "cell_type": "code",
   "execution_count": 9,
   "id": "c0e128bc",
   "metadata": {},
   "outputs": [],
   "source": [
    "conn.close()"
   ]
  }
 ],
 "metadata": {
  "kernelspec": {
   "display_name": "Python 3",
   "language": "python",
   "name": "python3"
  },
  "language_info": {
   "codemirror_mode": {
    "name": "ipython",
    "version": 3
   },
   "file_extension": ".py",
   "mimetype": "text/x-python",
   "name": "python",
   "nbconvert_exporter": "python",
   "pygments_lexer": "ipython3",
   "version": "3.8.8"
  }
 },
 "nbformat": 4,
 "nbformat_minor": 5
}
